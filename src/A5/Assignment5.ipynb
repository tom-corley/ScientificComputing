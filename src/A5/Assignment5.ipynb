{
 "cells": [
  {
   "cell_type": "markdown",
   "id": "9407d258-70da-4973-b5d6-f055f77bcb98",
   "metadata": {},
   "source": [
    "# PX390 Assignment 5\n",
    "\n",
    "---"
   ]
  },
  {
   "cell_type": "code",
   "execution_count": 5,
   "id": "62d9654c-84b6-4753-9f27-f1e458007780",
   "metadata": {
    "tags": []
   },
   "outputs": [],
   "source": [
    "import numpy as np\n",
    "import matplotlib.pyplot as plt"
   ]
  },
  {
   "cell_type": "code",
   "execution_count": 9,
   "id": "d57be390-9bbb-4535-8bfd-78bd4df63a96",
   "metadata": {
    "tags": []
   },
   "outputs": [],
   "source": [
    "def array_to_matrix(T, Nx, Ny):\n",
    "    \n",
    "    matrix = np.array(T).reshape((Nx, Ny))\n",
    "    \n",
    "    return np.flipud(matrix.T)\n",
    "\n",
    "def matrix_to_array(matrix, Nx, Ny):\n",
    "    matrix_transposed = matrix.T\n",
    "\n",
    "    matrix_flipped = np.flipud(matrix_transposed)\n",
    "\n",
    "    return np.array(list(reversed(matrix_flipped.flatten(order='C'))))\n"
   ]
  },
  {
   "cell_type": "code",
   "execution_count": 10,
   "id": "498b8e35-64e9-4b44-bdb3-9f2de4c2cce0",
   "metadata": {
    "tags": []
   },
   "outputs": [],
   "source": [
    "Nx = 100\n",
    "Ny = 100\n",
    "T_init = np.zeros((Nx, Ny))\n",
    "for i in range(Nx):\n",
    "    for j in range(Ny):\n",
    "        if ((i == 0) or (i == Nx - 1) or (j == 0) or (j == Ny - 1)):\n",
    "            T_init[i][j] = 5.0\n",
    "\n",
    "S_input = np.zeros(Nx*Ny)\n",
    "R_input = np.zeros(Nx*Ny)\n",
    "Q11_input = np.ones(Nx*Ny) \n",
    "Q22_input = np.ones(Nx*Ny)\n",
    "T_input = matrix_to_array(T_init, Nx, Ny)\n",
    "\n",
    "# Stack arrays column-wise\n",
    "data = np.column_stack((T_input, Q11_input, Q22_input, R_input, S_input))\n",
    "\n",
    "# Save to a text file\n",
    "np.savetxt(\"coefficients4.txt\", data, fmt=\"%.6f\", delimiter=\"\\t\")"
   ]
  },
  {
   "cell_type": "code",
   "execution_count": 11,
   "id": "1f2fef7d-ac97-4ce0-b06b-169af048b9db",
   "metadata": {
    "tags": []
   },
   "outputs": [
    {
     "data": {
      "image/png": "[encoded data removed]",
      "text/plain": [
       "<Figure size 432x288 with 2 Axes>"
      ]
     },
     "metadata": {
      "needs_background": "light"
     },
     "output_type": "display_data"
    },
    {
     "data": {
      "image/png": "[encoded data removed]",
      "text/plain": [
       "<Figure size 432x288 with 2 Axes>"
      ]
     },
     "metadata": {
      "needs_background": "light"
     },
     "output_type": "display_data"
    }
   ],
   "source": [
    "output = np.loadtxt(\"output3.txt\")\n",
    "T_final = array_to_matrix(output, Nx, Ny)\n",
    "\n",
    "# Display the matrix as an image\n",
    "plt.imshow(T_init, cmap='hot', origin='upper')  # 'hot' colormap for temperature-like effect\n",
    "plt.colorbar(label=\"Temperature\")  # Add a color bar\n",
    "plt.title(\"Initial Temperature Distribution\")\n",
    "plt.show()\n",
    "\n",
    "# Display the matrix as an image\n",
    "plt.imshow(T_final, cmap='hot', origin='upper')  # 'hot' colormap for temperature-like effect\n",
    "plt.colorbar(label=\"Temperature\")  # Add a color bar\n",
    "plt.title(\"Final Temperature Distribution\")\n",
    "plt.show()"
   ]
  },
  {
   "cell_type": "code",
   "execution_count": null,
   "id": "469689cf-bb6c-4b67-a1e7-2f41882f905b",
   "metadata": {},
   "outputs": [],
   "source": []
  }
 ],
 "metadata": {
  "kernelspec": {
   "display_name": "Python 3",
   "language": "python",
   "name": "python3"
  },
  "language_info": {
   "codemirror_mode": {
    "name": "ipython",
    "version": 3
   },
   "file_extension": ".py",
   "mimetype": "text/x-python",
   "name": "python",
   "nbconvert_exporter": "python",
   "pygments_lexer": "ipython3",
   "version": "3.9.6"
  }
 },
 "nbformat": 4,
 "nbformat_minor": 5
}
